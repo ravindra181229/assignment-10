{
 "cells": [
  {
   "cell_type": "code",
   "execution_count": 1,
   "id": "eb51f7b3",
   "metadata": {},
   "outputs": [
    {
     "data": {
      "text/plain": [
       "'shutil.copy() copies a single file \\nand shutil.copytree() copies entire folder'"
      ]
     },
     "execution_count": 1,
     "metadata": {},
     "output_type": "execute_result"
    }
   ],
   "source": [
    "#Q1\n",
    "'''shutil.copy() copies a single file \n",
    "and shutil.copytree() copies entire folder'''"
   ]
  },
  {
   "cell_type": "code",
   "execution_count": 9,
   "id": "c64f4d86",
   "metadata": {},
   "outputs": [
    {
     "data": {
      "text/plain": [
       "'os.rename() is used to rename a file'"
      ]
     },
     "execution_count": 9,
     "metadata": {},
     "output_type": "execute_result"
    }
   ],
   "source": [
    "#Q2\n",
    "'''os.rename() is used to rename a file'''"
   ]
  },
  {
   "cell_type": "code",
   "execution_count": 3,
   "id": "01a293fb",
   "metadata": {},
   "outputs": [
    {
     "data": {
      "text/plain": [
       "'the send2trash moves a file or folder to recycle bin and shutil module deletes the file or folder permanently'"
      ]
     },
     "execution_count": 3,
     "metadata": {},
     "output_type": "execute_result"
    }
   ],
   "source": [
    "#Q3\n",
    "'''the send2trash moves a file or folder to recycle bin and shutil module deletes the file or folder permanently'''"
   ]
  },
  {
   "cell_type": "code",
   "execution_count": 4,
   "id": "ee2a2789",
   "metadata": {},
   "outputs": [
    {
     "data": {
      "text/plain": [
       "'the read() and extract() methods is equivalent to file ojects open() method'"
      ]
     },
     "execution_count": 4,
     "metadata": {},
     "output_type": "execute_result"
    }
   ],
   "source": [
    "#Q4\n",
    "'''the read() and extract() methods is equivalent to file ojects open() method'''"
   ]
  },
  {
   "cell_type": "code",
   "execution_count": 13,
   "id": "b0c53d24",
   "metadata": {},
   "outputs": [
    {
     "name": "stdout",
     "output_type": "stream",
     "text": [
      "Looking in C:\\Users\\snopy\\folder for files with extensions of .pdf, .jpg\n"
     ]
    }
   ],
   "source": [
    "#Q5\n",
    "\n",
    "import os\n",
    "import shutil\n",
    "def select(folder, extensions, deskFolder):\n",
    "    folder = os.path.abspath(folder)\n",
    "    deskFolder = os.path.abspath(deskFolder)\n",
    "    print('Looking in', folder, 'for files with extensions of', ', '.join(extensions))\n",
    "    for folderna, subfolders, filenames in os.walk(folder):\n",
    "        for filename in filenames:\n",
    "            name, extension = os.path.splitext(filename)\n",
    "            if extension in extensions:\n",
    "                fileAbsPath = folderna + os.path.sep + filename\n",
    "                print('Coping', fileAbsPath, 'to', deskFolder)\n",
    "                shutil.copy(fileAbsPath, deskFolder)\n",
    "\n",
    "extensions = ['.pdf', '.jpg']\n",
    "folder = 'folder '\n",
    "deskFolder = 'selectiveFolder'\n",
    "select(folder, extensions, deskFolder)"
   ]
  },
  {
   "cell_type": "code",
   "execution_count": null,
   "id": "9babe423",
   "metadata": {},
   "outputs": [],
   "source": []
  }
 ],
 "metadata": {
  "kernelspec": {
   "display_name": "Python 3",
   "language": "python",
   "name": "python3"
  },
  "language_info": {
   "codemirror_mode": {
    "name": "ipython",
    "version": 3
   },
   "file_extension": ".py",
   "mimetype": "text/x-python",
   "name": "python",
   "nbconvert_exporter": "python",
   "pygments_lexer": "ipython3",
   "version": "3.8.8"
  }
 },
 "nbformat": 4,
 "nbformat_minor": 5
}
